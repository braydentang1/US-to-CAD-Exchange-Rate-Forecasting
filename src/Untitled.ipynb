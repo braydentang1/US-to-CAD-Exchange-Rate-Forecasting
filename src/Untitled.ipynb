{
 "cells": [
  {
   "cell_type": "markdown",
   "metadata": {},
   "source": [
    "# Forecasting the US to CAD Exchange Rate"
   ]
  },
  {
   "cell_type": "markdown",
   "metadata": {},
   "source": [
    "This notebook will seek to summarize some of the forecasting results originally inspired by a joint report done with my friend Riley Peters from over a year ago.\n",
    "\n",
    "The goal of this notebook is to derive some sort of forecasting model that produces forecasts for the US to CAD (EXCAUS) exchange rate. While getting accurate forecasts would be nice, it is not the primary goal of this project. Rather, it is just to experiment with hybrid based models based off recent developments in the literature involving forecasting methods that incorporate statistical methods for forecasting with meta learning from more \"machine learning like\" methods.\n",
    "\n",
    "Note: this project is strictly dealing with univariate time series modelling. Incorporating multiple time series together using a pure ML method would probably yield large gains in accuracy, as recent developments have seemed to suggest.\n",
    "\n",
    "## An Explanation: \n",
    "\n",
    "\n",
    "\n"
   ]
  },
  {
   "cell_type": "code",
   "execution_count": null,
   "metadata": {},
   "outputs": [],
   "source": []
  }
 ],
 "metadata": {
  "kernelspec": {
   "display_name": "R",
   "language": "R",
   "name": "ir"
  },
  "language_info": {
   "codemirror_mode": "r",
   "file_extension": ".r",
   "mimetype": "text/x-r-source",
   "name": "R",
   "pygments_lexer": "r",
   "version": "3.6.1"
  }
 },
 "nbformat": 4,
 "nbformat_minor": 4
}
